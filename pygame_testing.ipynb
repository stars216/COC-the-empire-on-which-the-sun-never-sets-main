{
 "cells": [
  {
   "cell_type": "code",
   "execution_count": 1,
   "id": "4db67ad9-6fea-4113-87e4-b4df24410cd0",
   "metadata": {},
   "outputs": [
    {
     "name": "stdout",
     "output_type": "stream",
     "text": [
      "pygame 2.3.0 (SDL 2.24.2, Python 3.8.8)\n",
      "Hello from the pygame community. https://www.pygame.org/contribute.html\n"
     ]
    }
   ],
   "source": [
    "import pygame\n",
    "import pyautogui"
   ]
  },
  {
   "cell_type": "code",
   "execution_count": 2,
   "id": "50d0f085-dd90-49d7-b4a7-997c98dfcd3a",
   "metadata": {},
   "outputs": [
    {
     "name": "stdout",
     "output_type": "stream",
     "text": [
      "1440 900\n"
     ]
    }
   ],
   "source": [
    "width, height = pyautogui.size()\n",
    "print(width, height)"
   ]
  },
  {
   "cell_type": "code",
   "execution_count": 3,
   "id": "fbc90698-f8ab-4458-94e0-7b2d298c3064",
   "metadata": {},
   "outputs": [],
   "source": [
    "class Johann(pygame.sprite.Sprite):\n",
    "    def __init__(self, width, height):\n",
    "        super(Johann, self).__init__()\n",
    "        johann = pygame.image.load('./劇本/角色立繪/約翰.png').convert_alpha()\n",
    "        self.surf = pygame.transform.scale(johann, (80, 60))\n",
    "        self.rect = self.surf.get_rect(center=(width/2, height/2))  # 中心定位\n",
    "\n",
    "    def update(self, keys):\n",
    "        if keys[pygame.K_LEFT]:\n",
    "            self.rect.move_ip((-2, 0))  # 橫座標向左\n",
    "        elif keys[pygame.K_RIGHT]:\n",
    "            self.rect.move_ip((2, 0))  # 橫座標向右\n",
    "        elif keys[pygame.K_UP]:\n",
    "            self.rect.move_ip((0, -2))  #縱座標向上\n",
    "        elif keys[pygame.K_DOWN]:\n",
    "            self.rect.move_ip((0, 2))  # 縱座標向下\n",
    "\n",
    "        # 防止小豬跑到屏幕外面\n",
    "        if self.rect.left < 0:\n",
    "            self.rect.left = 0\n",
    "        if self.rect.right > width:\n",
    "            self.rect.right = width\n",
    "        if self.rect.top < 0:\n",
    "            self.rect.top = 0\n",
    "        if self.rect.bottom > height:\n",
    "            self.rect.bottom = height"
   ]
  },
  {
   "cell_type": "code",
   "execution_count": 4,
   "id": "bdd83527-c4c4-4463-921b-5a354149f5a5",
   "metadata": {},
   "outputs": [],
   "source": [
    "class Background(pygame.sprite.Sprite):\n",
    "    def __init__(self, width, height):\n",
    "        super(Background, self).__init__()\n",
    "        background = pygame.image.load('./劇本/地圖.png').convert_alpha()\n",
    "        self.surf = pygame.transform.scale(background, (width, height))\n",
    "        self.rect = self.surf.get_rect(left=0, top=0)  # 左上角定位"
   ]
  },
  {
   "cell_type": "code",
   "execution_count": 5,
   "id": "b634c085-911f-4fad-a8ce-18fd1c7ac72a",
   "metadata": {},
   "outputs": [
    {
     "name": "stderr",
     "output_type": "stream",
     "text": [
      "2023-04-13 22:27:18.985 python[45442:1288566] TSM AdjustCapsLockLEDForKeyTransitionHandling - _ISSetPhysicalKeyboardCapsLockLED Inhibit\n"
     ]
    }
   ],
   "source": [
    "def main():\n",
    "    pygame.init()\n",
    "    pygame.display.set_caption('永晝城物語')  # 遊戲標題\n",
    "    win = pygame.display.set_mode((width, height))  # 窗口尺寸\n",
    "    background = Background(width, height)\n",
    "    johann = Johann(width, height)\n",
    "    all_sprites = [background, johann]  # 注意添加順序，後添加的對象圖層在先添加的對象的圖層上面\n",
    "    running = True\n",
    "    while running:\n",
    "        for event in pygame.event.get():\n",
    "            # 點擊左上角或者右上角的x關閉窗口時，停止程序\n",
    "            if event.type == pygame.QUIT:  \n",
    "                running = False\n",
    "\n",
    "        keys = pygame.key.get_pressed()\n",
    "        johann.update(keys)\n",
    "        # 顯示物件\n",
    "        for sprite in all_sprites:\n",
    "            win.blit(sprite.surf, sprite.rect)\n",
    "        pygame.display.flip()\n",
    "        \n",
    "main()"
   ]
  },
  {
   "cell_type": "code",
   "execution_count": null,
   "id": "dfbf9be5-8dbe-4de9-aef9-08093631ee70",
   "metadata": {},
   "outputs": [],
   "source": []
  }
 ],
 "metadata": {
  "kernelspec": {
   "display_name": "Python 3 (ipykernel)",
   "language": "python",
   "name": "python3"
  },
  "language_info": {
   "codemirror_mode": {
    "name": "ipython",
    "version": 3
   },
   "file_extension": ".py",
   "mimetype": "text/x-python",
   "name": "python",
   "nbconvert_exporter": "python",
   "pygments_lexer": "ipython3",
   "version": "3.8.8"
  }
 },
 "nbformat": 4,
 "nbformat_minor": 5
}
